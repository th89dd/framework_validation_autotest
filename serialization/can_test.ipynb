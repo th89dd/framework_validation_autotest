{
 "cells": [
  {
   "cell_type": "code",
   "execution_count": 1,
   "metadata": {},
   "outputs": [],
   "source": [
    "from can_test import *"
   ]
  },
  {
   "cell_type": "markdown",
   "metadata": {},
   "source": [
    "# in Memory Test\n",
    "\n",
    "- CAN Frame Rahmen:\n",
    "\n",
    "| SoF | Base ID | RTR | IDE | FDF | DLC | Data Field | CRC | CRC Delimiter | ACK | EoF | IFS |\n",
    "|-----|---------|-----|-----|-----|-----|------------|-----|---------------|-----|-----|-----|\n",
    "| 1   | 11      | 1   | 1   | 1   | 4   | 0 - 64     | 15  | 1             | 2   | 7   | 2   |\n",
    "\n",
    "SoF - Start of Frame\n",
    "RTR - Remote Transmission Request\n",
    "IDE - IDentifier Extension\n",
    "FDF - FD Format indicator\n",
    "DLC - Data Length Code\n",
    "CRC - Cyclic Redundancy Check\n",
    "ACK - Acknowledgement\n",
    "EoF - End of Frame\n",
    "IFS - Inter Frame Space\n",
    "\n",
    "\n",
    "Order Bit Transmission in Classical Base Frame Format for DataFrame:\n",
    "    <img alt=\"can_frame\" src=\"_sources/can_data_frame.png\" title=\"CAN DataFrame\" width=\"1200\"/>\n",
    "\n",
    "Order Bit Transmission in Classical Extended Frame Format for DataFrame:\n",
    "    <img alt=\"can_frame\" src=\"_sources/can_ext_data_frame.png\" title=\"CAN DataFrame\" width=\"1300\"/>"
   ]
  },
  {
   "cell_type": "code",
   "execution_count": 2,
   "metadata": {},
   "outputs": [
    {
     "name": "stdout",
     "output_type": "stream",
     "text": [
      "Classical Base Frame Format:\n",
      "id: 11 bit\n",
      "header: 19 bit \n",
      "trailer1: 15 bit \n",
      "trailer2: 12 bit \n",
      "sum: 46 bit\n",
      "header + trailer1 (bit stuffing): 34 bit\n",
      "max. stuff bits: 19.6\n"
     ]
    }
   ],
   "source": [
    "# Anzahl Header, trailer and bit_stuffing in standard frame\n",
    "sof, base_id, rtr, ide, fdf, dlc, crc, crc_del, ack, eof, ifs = 1, 11, 1, 1, 1, 4, 15, 1, 2, 7, 2\n",
    "header = sof + base_id + rtr + ide + fdf + dlc\n",
    "trailer1 = crc\n",
    "trailer2 = crc_del + ack + eof + ifs\n",
    "print('Classical Base Frame Format:')\n",
    "print('id: {} bit'.format(base_id))\n",
    "print('header: {} bit \\ntrailer1: {} bit \\ntrailer2: {} bit \\nsum: {} bit'.format(header, trailer1, trailer2, header+trailer1+trailer2))\n",
    "print('header + trailer1 (bit stuffing): {} bit'.format(header+trailer1))\n",
    "\n",
    "# worst-case bit stuffing standard frame\n",
    "max_data = 64\n",
    "bits_for_stuffing = header + trailer1 + max_data\n",
    "stuff_bits = bits_for_stuffing / 5\n",
    "print('max. stuff bits: {}'.format(stuff_bits))"
   ]
  },
  {
   "cell_type": "code",
   "execution_count": 3,
   "metadata": {},
   "outputs": [
    {
     "name": "stdout",
     "output_type": "stream",
     "text": [
      "Classical Extended Frame Format:\n",
      "id: 29 bit\n",
      "header: 39 bit \n",
      "trailer1: 15 bit \n",
      "trailer2: 12 bit \n",
      "sum: 66 bit\n",
      "header + trailer1 (bit stuffing): 54 bit\n",
      "max. stuff bits: 23.6\n"
     ]
    }
   ],
   "source": [
    "# Anzahl Header, trailer and bit_stuffing in extended frame\n",
    "sof, base_id, srr, ide, id_extension, rtr, fdf, r0, dlc, crc, crc_del, ack, eof, ifs = 1, 11, 1, 1, 18, 1, 1, 1, 4, 15, 1, 2, 7, 2\n",
    "header = sof + base_id + rtr + ide + fdf + dlc + srr + r0 + id_extension\n",
    "trailer1 = crc\n",
    "trailer2 = crc_del + ack + eof + ifs\n",
    "print('Classical Extended Frame Format:')\n",
    "print('id: {} bit'.format(base_id+id_extension))\n",
    "print('header: {} bit \\ntrailer1: {} bit \\ntrailer2: {} bit \\nsum: {} bit'.format(header, trailer1, trailer2, header+trailer1+trailer2))\n",
    "print('header + trailer1 (bit stuffing): {} bit'.format(header+trailer1))\n",
    "\n",
    "# worst-case bit stuffing standard frame\n",
    "max_data = 64\n",
    "bits_for_stuffing = header + trailer1 + max_data\n",
    "stuff_bits = bits_for_stuffing / 5\n",
    "print('max. stuff bits: {}'.format(stuff_bits))"
   ]
  },
  {
   "cell_type": "code",
   "execution_count": 4,
   "metadata": {},
   "outputs": [
    {
     "name": "stdout",
     "output_type": "stream",
     "text": [
      "base_frame with 2 byte max: \t n_frame:  72.00 bit \t t_frame: 576.0000 μs \t f_data: 32.26 kbit/s\n",
      "base_frame with 2 byte min: \t n_frame:  62.00 bit \t t_frame: 496.0000 μs \t f_data: 27.78 kbit/s\n"
     ]
    },
    {
     "data": {
      "text/plain": "   frame_format  n_data_bytes  n_frame_max [bit]  t_frame_max [ms]  \\\n0          base             1               62.0             0.124   \n1      extended             1               86.0             0.172   \n2          base             2               72.0             0.144   \n3      extended             2               96.0             0.192   \n4          base             3               81.0             0.162   \n5      extended             3              105.0             0.210   \n6          base             4               91.0             0.182   \n7      extended             4              115.0             0.230   \n8          base             5              100.0             0.200   \n9      extended             5              124.0             0.248   \n10         base             6              110.0             0.220   \n11     extended             6              134.0             0.268   \n12         base             7              120.0             0.240   \n13     extended             7              144.0             0.288   \n14         base             8              129.0             0.258   \n15     extended             8              153.0             0.306   \n\n    f_data_min [kbit/s]  n_frame_min [bit]  t_frame_min [ms]  \\\n0             64.516129                 54             0.108   \n1             46.511628                 74             0.148   \n2            111.111111                 62             0.124   \n3             83.333333                 82             0.164   \n4            148.148148                 70             0.140   \n5            114.285714                 90             0.180   \n6            175.824176                 78             0.156   \n7            139.130435                 98             0.196   \n8            200.000000                 86             0.172   \n9            161.290323                106             0.212   \n10           218.181818                 94             0.188   \n11           179.104478                114             0.228   \n12           233.333333                102             0.204   \n13           194.444444                122             0.244   \n14           248.062016                110             0.220   \n15           209.150327                130             0.260   \n\n    f_data_max [kbit/s]  \n0             74.074074  \n1             54.054054  \n2            129.032258  \n3             97.560976  \n4            171.428571  \n5            133.333333  \n6            205.128205  \n7            163.265306  \n8            232.558140  \n9            188.679245  \n10           255.319149  \n11           210.526316  \n12           274.509804  \n13           229.508197  \n14           290.909091  \n15           246.153846  ",
      "text/html": "<div>\n<style scoped>\n    .dataframe tbody tr th:only-of-type {\n        vertical-align: middle;\n    }\n\n    .dataframe tbody tr th {\n        vertical-align: top;\n    }\n\n    .dataframe thead th {\n        text-align: right;\n    }\n</style>\n<table border=\"1\" class=\"dataframe\">\n  <thead>\n    <tr style=\"text-align: right;\">\n      <th></th>\n      <th>frame_format</th>\n      <th>n_data_bytes</th>\n      <th>n_frame_max [bit]</th>\n      <th>t_frame_max [ms]</th>\n      <th>f_data_min [kbit/s]</th>\n      <th>n_frame_min [bit]</th>\n      <th>t_frame_min [ms]</th>\n      <th>f_data_max [kbit/s]</th>\n    </tr>\n  </thead>\n  <tbody>\n    <tr>\n      <th>0</th>\n      <td>base</td>\n      <td>1</td>\n      <td>62.0</td>\n      <td>0.124</td>\n      <td>64.516129</td>\n      <td>54</td>\n      <td>0.108</td>\n      <td>74.074074</td>\n    </tr>\n    <tr>\n      <th>1</th>\n      <td>extended</td>\n      <td>1</td>\n      <td>86.0</td>\n      <td>0.172</td>\n      <td>46.511628</td>\n      <td>74</td>\n      <td>0.148</td>\n      <td>54.054054</td>\n    </tr>\n    <tr>\n      <th>2</th>\n      <td>base</td>\n      <td>2</td>\n      <td>72.0</td>\n      <td>0.144</td>\n      <td>111.111111</td>\n      <td>62</td>\n      <td>0.124</td>\n      <td>129.032258</td>\n    </tr>\n    <tr>\n      <th>3</th>\n      <td>extended</td>\n      <td>2</td>\n      <td>96.0</td>\n      <td>0.192</td>\n      <td>83.333333</td>\n      <td>82</td>\n      <td>0.164</td>\n      <td>97.560976</td>\n    </tr>\n    <tr>\n      <th>4</th>\n      <td>base</td>\n      <td>3</td>\n      <td>81.0</td>\n      <td>0.162</td>\n      <td>148.148148</td>\n      <td>70</td>\n      <td>0.140</td>\n      <td>171.428571</td>\n    </tr>\n    <tr>\n      <th>5</th>\n      <td>extended</td>\n      <td>3</td>\n      <td>105.0</td>\n      <td>0.210</td>\n      <td>114.285714</td>\n      <td>90</td>\n      <td>0.180</td>\n      <td>133.333333</td>\n    </tr>\n    <tr>\n      <th>6</th>\n      <td>base</td>\n      <td>4</td>\n      <td>91.0</td>\n      <td>0.182</td>\n      <td>175.824176</td>\n      <td>78</td>\n      <td>0.156</td>\n      <td>205.128205</td>\n    </tr>\n    <tr>\n      <th>7</th>\n      <td>extended</td>\n      <td>4</td>\n      <td>115.0</td>\n      <td>0.230</td>\n      <td>139.130435</td>\n      <td>98</td>\n      <td>0.196</td>\n      <td>163.265306</td>\n    </tr>\n    <tr>\n      <th>8</th>\n      <td>base</td>\n      <td>5</td>\n      <td>100.0</td>\n      <td>0.200</td>\n      <td>200.000000</td>\n      <td>86</td>\n      <td>0.172</td>\n      <td>232.558140</td>\n    </tr>\n    <tr>\n      <th>9</th>\n      <td>extended</td>\n      <td>5</td>\n      <td>124.0</td>\n      <td>0.248</td>\n      <td>161.290323</td>\n      <td>106</td>\n      <td>0.212</td>\n      <td>188.679245</td>\n    </tr>\n    <tr>\n      <th>10</th>\n      <td>base</td>\n      <td>6</td>\n      <td>110.0</td>\n      <td>0.220</td>\n      <td>218.181818</td>\n      <td>94</td>\n      <td>0.188</td>\n      <td>255.319149</td>\n    </tr>\n    <tr>\n      <th>11</th>\n      <td>extended</td>\n      <td>6</td>\n      <td>134.0</td>\n      <td>0.268</td>\n      <td>179.104478</td>\n      <td>114</td>\n      <td>0.228</td>\n      <td>210.526316</td>\n    </tr>\n    <tr>\n      <th>12</th>\n      <td>base</td>\n      <td>7</td>\n      <td>120.0</td>\n      <td>0.240</td>\n      <td>233.333333</td>\n      <td>102</td>\n      <td>0.204</td>\n      <td>274.509804</td>\n    </tr>\n    <tr>\n      <th>13</th>\n      <td>extended</td>\n      <td>7</td>\n      <td>144.0</td>\n      <td>0.288</td>\n      <td>194.444444</td>\n      <td>122</td>\n      <td>0.244</td>\n      <td>229.508197</td>\n    </tr>\n    <tr>\n      <th>14</th>\n      <td>base</td>\n      <td>8</td>\n      <td>129.0</td>\n      <td>0.258</td>\n      <td>248.062016</td>\n      <td>110</td>\n      <td>0.220</td>\n      <td>290.909091</td>\n    </tr>\n    <tr>\n      <th>15</th>\n      <td>extended</td>\n      <td>8</td>\n      <td>153.0</td>\n      <td>0.306</td>\n      <td>209.150327</td>\n      <td>130</td>\n      <td>0.260</td>\n      <td>246.153846</td>\n    </tr>\n  </tbody>\n</table>\n</div>"
     },
     "execution_count": 4,
     "metadata": {},
     "output_type": "execute_result"
    }
   ],
   "source": [
    "# Berechnung möglicher Datenmengen\n",
    "\n",
    "result_list = list()\n",
    "for x in range(1, 9):\n",
    "    result_list.append(calc_data_rate(f_bit=500, n_data_bytes=x, base_or_extended='base'))\n",
    "    result_list.append(calc_data_rate(f_bit=500, n_data_bytes=x, base_or_extended='extended'))\n",
    "\n",
    "calc_data_rate(125,2,'base',True)\n",
    "df_data_rates = pd.DataFrame(result_list)\n",
    "df_data_rates"
   ]
  },
  {
   "cell_type": "code",
   "execution_count": 5,
   "metadata": {},
   "outputs": [
    {
     "data": {
      "text/plain": "    can_id  n_bytes   t  t_frame  t_wait  buslast\n0        1        8  10    0.306   0.606    3.060\n1        2        4   1    0.230   0.830   26.060\n2        3        1   1    0.172   0.972   43.260\n3        4        8   2    0.306   1.306   58.560\n4        5        8   2    0.306   2.006   73.860\n5        6        2   5    0.192   2.192   77.700\n6        7        2   5    0.192   3.792   81.540\n7        8        7   5    0.288   4.088   87.300\n8        9        7   5    0.288   7.888   93.060\n9       10        8  10    0.306   9.906   96.120\n10      11        8  10    0.306  10.206   99.180\n11      12        6  20    0.268  30.268  100.520\n12      13        4  20    0.230     NaN  101.670\n13      14        2  50    0.192     NaN  102.054\n14      15        1  50    0.172     NaN  102.398",
      "text/html": "<div>\n<style scoped>\n    .dataframe tbody tr th:only-of-type {\n        vertical-align: middle;\n    }\n\n    .dataframe tbody tr th {\n        vertical-align: top;\n    }\n\n    .dataframe thead th {\n        text-align: right;\n    }\n</style>\n<table border=\"1\" class=\"dataframe\">\n  <thead>\n    <tr style=\"text-align: right;\">\n      <th></th>\n      <th>can_id</th>\n      <th>n_bytes</th>\n      <th>t</th>\n      <th>t_frame</th>\n      <th>t_wait</th>\n      <th>buslast</th>\n    </tr>\n  </thead>\n  <tbody>\n    <tr>\n      <th>0</th>\n      <td>1</td>\n      <td>8</td>\n      <td>10</td>\n      <td>0.306</td>\n      <td>0.606</td>\n      <td>3.060</td>\n    </tr>\n    <tr>\n      <th>1</th>\n      <td>2</td>\n      <td>4</td>\n      <td>1</td>\n      <td>0.230</td>\n      <td>0.830</td>\n      <td>26.060</td>\n    </tr>\n    <tr>\n      <th>2</th>\n      <td>3</td>\n      <td>1</td>\n      <td>1</td>\n      <td>0.172</td>\n      <td>0.972</td>\n      <td>43.260</td>\n    </tr>\n    <tr>\n      <th>3</th>\n      <td>4</td>\n      <td>8</td>\n      <td>2</td>\n      <td>0.306</td>\n      <td>1.306</td>\n      <td>58.560</td>\n    </tr>\n    <tr>\n      <th>4</th>\n      <td>5</td>\n      <td>8</td>\n      <td>2</td>\n      <td>0.306</td>\n      <td>2.006</td>\n      <td>73.860</td>\n    </tr>\n    <tr>\n      <th>5</th>\n      <td>6</td>\n      <td>2</td>\n      <td>5</td>\n      <td>0.192</td>\n      <td>2.192</td>\n      <td>77.700</td>\n    </tr>\n    <tr>\n      <th>6</th>\n      <td>7</td>\n      <td>2</td>\n      <td>5</td>\n      <td>0.192</td>\n      <td>3.792</td>\n      <td>81.540</td>\n    </tr>\n    <tr>\n      <th>7</th>\n      <td>8</td>\n      <td>7</td>\n      <td>5</td>\n      <td>0.288</td>\n      <td>4.088</td>\n      <td>87.300</td>\n    </tr>\n    <tr>\n      <th>8</th>\n      <td>9</td>\n      <td>7</td>\n      <td>5</td>\n      <td>0.288</td>\n      <td>7.888</td>\n      <td>93.060</td>\n    </tr>\n    <tr>\n      <th>9</th>\n      <td>10</td>\n      <td>8</td>\n      <td>10</td>\n      <td>0.306</td>\n      <td>9.906</td>\n      <td>96.120</td>\n    </tr>\n    <tr>\n      <th>10</th>\n      <td>11</td>\n      <td>8</td>\n      <td>10</td>\n      <td>0.306</td>\n      <td>10.206</td>\n      <td>99.180</td>\n    </tr>\n    <tr>\n      <th>11</th>\n      <td>12</td>\n      <td>6</td>\n      <td>20</td>\n      <td>0.268</td>\n      <td>30.268</td>\n      <td>100.520</td>\n    </tr>\n    <tr>\n      <th>12</th>\n      <td>13</td>\n      <td>4</td>\n      <td>20</td>\n      <td>0.230</td>\n      <td>NaN</td>\n      <td>101.670</td>\n    </tr>\n    <tr>\n      <th>13</th>\n      <td>14</td>\n      <td>2</td>\n      <td>50</td>\n      <td>0.192</td>\n      <td>NaN</td>\n      <td>102.054</td>\n    </tr>\n    <tr>\n      <th>14</th>\n      <td>15</td>\n      <td>1</td>\n      <td>50</td>\n      <td>0.172</td>\n      <td>NaN</td>\n      <td>102.398</td>\n    </tr>\n  </tbody>\n</table>\n</div>"
     },
     "execution_count": 5,
     "metadata": {},
     "output_type": "execute_result"
    }
   ],
   "source": [
    "# Wartezeiten im CAN -> Untersuchung auf \"weiche Echtzeit\"\n",
    "# maximale Wartezeit für 1 Frame ergibt sich aus obiger Tabelle t_frame_max = 0,306 ms\n",
    "\n",
    "calc_realtime()"
   ]
  },
  {
   "cell_type": "code",
   "execution_count": 6,
   "metadata": {},
   "outputs": [
    {
     "data": {
      "text/plain": "    can_id  n_bytes    t  t_frame  t_wait  buslast\n0        1        6   50    0.536   1.136    1.072\n1        2        8    2    0.612   1.712   31.672\n2        3        7   10    0.576   2.376   37.432\n3        4        8   20    0.612   3.512   40.492\n4        5        2    1    0.384   3.984   78.892\n5        6        8  100    0.612   8.512   79.504\n6        7        2   50    0.384  10.184   80.272\n7        8        7    5    0.576  14.176   91.792\n8        9        7    5    0.576  20.576  103.312\n9       10        8   10    0.612     NaN  109.432\n10      11        8   10    0.612     NaN  115.552\n11      12        6   20    0.536     NaN  118.232\n12      13        4   20    0.460     NaN  120.532\n13      14        2   50    0.384     NaN  121.300\n14      15        1   50    0.344     NaN  121.988",
      "text/html": "<div>\n<style scoped>\n    .dataframe tbody tr th:only-of-type {\n        vertical-align: middle;\n    }\n\n    .dataframe tbody tr th {\n        vertical-align: top;\n    }\n\n    .dataframe thead th {\n        text-align: right;\n    }\n</style>\n<table border=\"1\" class=\"dataframe\">\n  <thead>\n    <tr style=\"text-align: right;\">\n      <th></th>\n      <th>can_id</th>\n      <th>n_bytes</th>\n      <th>t</th>\n      <th>t_frame</th>\n      <th>t_wait</th>\n      <th>buslast</th>\n    </tr>\n  </thead>\n  <tbody>\n    <tr>\n      <th>0</th>\n      <td>1</td>\n      <td>6</td>\n      <td>50</td>\n      <td>0.536</td>\n      <td>1.136</td>\n      <td>1.072</td>\n    </tr>\n    <tr>\n      <th>1</th>\n      <td>2</td>\n      <td>8</td>\n      <td>2</td>\n      <td>0.612</td>\n      <td>1.712</td>\n      <td>31.672</td>\n    </tr>\n    <tr>\n      <th>2</th>\n      <td>3</td>\n      <td>7</td>\n      <td>10</td>\n      <td>0.576</td>\n      <td>2.376</td>\n      <td>37.432</td>\n    </tr>\n    <tr>\n      <th>3</th>\n      <td>4</td>\n      <td>8</td>\n      <td>20</td>\n      <td>0.612</td>\n      <td>3.512</td>\n      <td>40.492</td>\n    </tr>\n    <tr>\n      <th>4</th>\n      <td>5</td>\n      <td>2</td>\n      <td>1</td>\n      <td>0.384</td>\n      <td>3.984</td>\n      <td>78.892</td>\n    </tr>\n    <tr>\n      <th>5</th>\n      <td>6</td>\n      <td>8</td>\n      <td>100</td>\n      <td>0.612</td>\n      <td>8.512</td>\n      <td>79.504</td>\n    </tr>\n    <tr>\n      <th>6</th>\n      <td>7</td>\n      <td>2</td>\n      <td>50</td>\n      <td>0.384</td>\n      <td>10.184</td>\n      <td>80.272</td>\n    </tr>\n    <tr>\n      <th>7</th>\n      <td>8</td>\n      <td>7</td>\n      <td>5</td>\n      <td>0.576</td>\n      <td>14.176</td>\n      <td>91.792</td>\n    </tr>\n    <tr>\n      <th>8</th>\n      <td>9</td>\n      <td>7</td>\n      <td>5</td>\n      <td>0.576</td>\n      <td>20.576</td>\n      <td>103.312</td>\n    </tr>\n    <tr>\n      <th>9</th>\n      <td>10</td>\n      <td>8</td>\n      <td>10</td>\n      <td>0.612</td>\n      <td>NaN</td>\n      <td>109.432</td>\n    </tr>\n    <tr>\n      <th>10</th>\n      <td>11</td>\n      <td>8</td>\n      <td>10</td>\n      <td>0.612</td>\n      <td>NaN</td>\n      <td>115.552</td>\n    </tr>\n    <tr>\n      <th>11</th>\n      <td>12</td>\n      <td>6</td>\n      <td>20</td>\n      <td>0.536</td>\n      <td>NaN</td>\n      <td>118.232</td>\n    </tr>\n    <tr>\n      <th>12</th>\n      <td>13</td>\n      <td>4</td>\n      <td>20</td>\n      <td>0.460</td>\n      <td>NaN</td>\n      <td>120.532</td>\n    </tr>\n    <tr>\n      <th>13</th>\n      <td>14</td>\n      <td>2</td>\n      <td>50</td>\n      <td>0.384</td>\n      <td>NaN</td>\n      <td>121.300</td>\n    </tr>\n    <tr>\n      <th>14</th>\n      <td>15</td>\n      <td>1</td>\n      <td>50</td>\n      <td>0.344</td>\n      <td>NaN</td>\n      <td>121.988</td>\n    </tr>\n  </tbody>\n</table>\n</div>"
     },
     "execution_count": 6,
     "metadata": {},
     "output_type": "execute_result"
    }
   ],
   "source": [
    "# berechnung mit 250 kbit/s + unsaubere Zuordnung der Prioritäten\n",
    "n_bytes_list = [6, 8, 7, 8, 2, 8, 2, 7, 7, 8, 8, 6, 4, 2, 1, 4]\n",
    "t_message_list = [50, 2, 10, 20, 1, 100, 50, 5, 5, 10, 10, 20, 20, 50, 50, 100]\n",
    "\n",
    "calc_realtime(250, n_bytes_list, t_message_list)"
   ]
  },
  {
   "cell_type": "markdown",
   "metadata": {},
   "source": [
    "Reale Messung:\n",
    "\n",
    "| sending                                  | receiving                             |\n",
    "|------------------------------------------|---------------------------------------|\n",
    "| <img src=\"_sources/send_250.PNG\"/> | <img src=\"_sources/receive_250.PNG\"/> |\n",
    "\n",
    "\n",
    "bus load:\n",
    "<img src=\"_sources/buslast_250.PNG\"/>"
   ]
  },
  {
   "cell_type": "code",
   "execution_count": 7,
   "metadata": {},
   "outputs": [
    {
     "data": {
      "text/plain": "    can_id  n_bytes    t  t_frame  t_wait  buslast\n0        1        6   50    0.536   1.136    1.072\n1        2        7   10    0.576   1.676    6.832\n2        3        8   20    0.612   2.312    9.892\n3        4        8  100    0.612   2.912   10.504\n4        5        2   50    0.384   3.284   11.272\n5        6        7    5    0.576   3.876   22.792\n6        7        7    5    0.576   4.476   34.312\n7        8        8   10    0.612   5.112   40.432\n8        9        8   10    0.612   6.812   46.552\n9       10        6   20    0.536   7.336   49.232\n10      11        4   20    0.460   7.660   51.532\n11      12        2   50    0.384   7.984   52.300\n12      13        1   50    0.344   8.344   52.988",
      "text/html": "<div>\n<style scoped>\n    .dataframe tbody tr th:only-of-type {\n        vertical-align: middle;\n    }\n\n    .dataframe tbody tr th {\n        vertical-align: top;\n    }\n\n    .dataframe thead th {\n        text-align: right;\n    }\n</style>\n<table border=\"1\" class=\"dataframe\">\n  <thead>\n    <tr style=\"text-align: right;\">\n      <th></th>\n      <th>can_id</th>\n      <th>n_bytes</th>\n      <th>t</th>\n      <th>t_frame</th>\n      <th>t_wait</th>\n      <th>buslast</th>\n    </tr>\n  </thead>\n  <tbody>\n    <tr>\n      <th>0</th>\n      <td>1</td>\n      <td>6</td>\n      <td>50</td>\n      <td>0.536</td>\n      <td>1.136</td>\n      <td>1.072</td>\n    </tr>\n    <tr>\n      <th>1</th>\n      <td>2</td>\n      <td>7</td>\n      <td>10</td>\n      <td>0.576</td>\n      <td>1.676</td>\n      <td>6.832</td>\n    </tr>\n    <tr>\n      <th>2</th>\n      <td>3</td>\n      <td>8</td>\n      <td>20</td>\n      <td>0.612</td>\n      <td>2.312</td>\n      <td>9.892</td>\n    </tr>\n    <tr>\n      <th>3</th>\n      <td>4</td>\n      <td>8</td>\n      <td>100</td>\n      <td>0.612</td>\n      <td>2.912</td>\n      <td>10.504</td>\n    </tr>\n    <tr>\n      <th>4</th>\n      <td>5</td>\n      <td>2</td>\n      <td>50</td>\n      <td>0.384</td>\n      <td>3.284</td>\n      <td>11.272</td>\n    </tr>\n    <tr>\n      <th>5</th>\n      <td>6</td>\n      <td>7</td>\n      <td>5</td>\n      <td>0.576</td>\n      <td>3.876</td>\n      <td>22.792</td>\n    </tr>\n    <tr>\n      <th>6</th>\n      <td>7</td>\n      <td>7</td>\n      <td>5</td>\n      <td>0.576</td>\n      <td>4.476</td>\n      <td>34.312</td>\n    </tr>\n    <tr>\n      <th>7</th>\n      <td>8</td>\n      <td>8</td>\n      <td>10</td>\n      <td>0.612</td>\n      <td>5.112</td>\n      <td>40.432</td>\n    </tr>\n    <tr>\n      <th>8</th>\n      <td>9</td>\n      <td>8</td>\n      <td>10</td>\n      <td>0.612</td>\n      <td>6.812</td>\n      <td>46.552</td>\n    </tr>\n    <tr>\n      <th>9</th>\n      <td>10</td>\n      <td>6</td>\n      <td>20</td>\n      <td>0.536</td>\n      <td>7.336</td>\n      <td>49.232</td>\n    </tr>\n    <tr>\n      <th>10</th>\n      <td>11</td>\n      <td>4</td>\n      <td>20</td>\n      <td>0.460</td>\n      <td>7.660</td>\n      <td>51.532</td>\n    </tr>\n    <tr>\n      <th>11</th>\n      <td>12</td>\n      <td>2</td>\n      <td>50</td>\n      <td>0.384</td>\n      <td>7.984</td>\n      <td>52.300</td>\n    </tr>\n    <tr>\n      <th>12</th>\n      <td>13</td>\n      <td>1</td>\n      <td>50</td>\n      <td>0.344</td>\n      <td>8.344</td>\n      <td>52.988</td>\n    </tr>\n  </tbody>\n</table>\n</div>"
     },
     "execution_count": 7,
     "metadata": {},
     "output_type": "execute_result"
    }
   ],
   "source": [
    "# berechnung mit 250 kbit/s + ohne kurze zeiten\n",
    "n_bytes_list = [6, 7, 8, 8, 2, 7, 7, 8, 8, 6, 4, 2, 1, 4]\n",
    "t_message_list = [50, 10, 20, 100, 50, 5, 5, 10, 10, 20, 20, 50, 50, 100]\n",
    "\n",
    "calc_realtime(250, n_bytes_list, t_message_list)"
   ]
  },
  {
   "cell_type": "markdown",
   "metadata": {},
   "source": [
    "Reale Messung:\n",
    "\n",
    "| sending                                  | receiving                                            |\n",
    "|------------------------------------------|------------------------------------------------------|\n",
    "| <img src=\"_sources/send_250_small.PNG\"/> | <img src=\"_sources/receive_250_small.PNG\"/> |\n",
    "\n",
    "\n",
    "bus load:\n",
    "<img src=\"_sources/buslast_250_small.PNG\"/>"
   ]
  },
  {
   "cell_type": "markdown",
   "metadata": {},
   "source": [
    "# Fazit\n",
    "\n",
    "es ergeben sich folgende Kernaussagen:\n",
    "- max. Nutzbare Datenmenge classical [extended] CAN: 290 kb/s [246 kb/s]\n",
    "- max. Latenzen classical [extended] CAN: 0.258 ms [0.306 ms]\n",
    "\n",
    "- sofern die Frame-Einteilung sinnvoll erfolgt, kann ein CAN-Bus mittels zyklischer Daten auch mit einer Buslast von > 90 % weiche Echtzeit garantieren\n",
    "- Zu Berechnung der Nutzdaten kann daher eine Buslast von 90 % sowie die höchste Nettodatenrate angenommen werden (keine Stuff-Bits)"
   ]
  },
  {
   "cell_type": "code",
   "execution_count": 8,
   "metadata": {},
   "outputs": [
    {
     "name": "stdout",
     "output_type": "stream",
     "text": [
      "frames pro sec min: 2941.176470588235\n",
      "frames pro sec max: 4090.9090909090905\n"
     ]
    }
   ],
   "source": [
    "# Nutzdatenberechnung\n",
    "datenrate = 500 * 10**3\n",
    "buslast = 0.9\n",
    "nutzdaten = 8 * 8\n",
    "brutto_daten_min = 110\n",
    "brutto_daten_max = 153\n",
    "\n",
    "frames_pro_sec_min = datenrate/brutto_daten_max*buslast\n",
    "frames_pro_sec_max = datenrate/brutto_daten_min*buslast\n",
    "\n",
    "print('frames pro sec min: {}'. format(frames_pro_sec_min))\n",
    "print('frames pro sec max: {}'.format(frames_pro_sec_max))"
   ]
  }
 ],
 "metadata": {
  "kernelspec": {
   "display_name": "Python 3 (ipykernel)",
   "language": "python",
   "name": "python3"
  },
  "language_info": {
   "codemirror_mode": {
    "name": "ipython",
    "version": 3
   },
   "file_extension": ".py",
   "mimetype": "text/x-python",
   "name": "python",
   "nbconvert_exporter": "python",
   "pygments_lexer": "ipython3",
   "version": "3.10.2"
  }
 },
 "nbformat": 4,
 "nbformat_minor": 1
}
